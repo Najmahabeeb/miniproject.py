{
 "cells": [
  {
   "cell_type": "code",
   "execution_count": 1,
   "id": "f6f92717-30ac-4b1a-b6e9-e76d6fb37d22",
   "metadata": {},
   "outputs": [],
   "source": [
    "import pandas as pd\n",
    "import numpy as np\n",
    "import matplotlib.pyplot as plt\n",
    "import seaborn as sns"
   ]
  },
  {
   "cell_type": "code",
   "execution_count": 2,
   "id": "f44f37fb-beba-4e66-81c4-2a999b42c306",
   "metadata": {},
   "outputs": [],
   "source": [
    "from sklearn.preprocessing import StandardScaler, MinMaxScaler, OneHotEncoder, LabelEncoder\n",
    "from sklearn.impute import SimpleImputer\n",
    "from scipy import stats"
   ]
  },
  {
   "cell_type": "code",
   "execution_count": 5,
   "id": "db923d9c-0962-41dc-b767-00bda63f3e0f",
   "metadata": {},
   "outputs": [
    {
     "data": {
      "text/html": [
       "<div>\n",
       "<style scoped>\n",
       "    .dataframe tbody tr th:only-of-type {\n",
       "        vertical-align: middle;\n",
       "    }\n",
       "\n",
       "    .dataframe tbody tr th {\n",
       "        vertical-align: top;\n",
       "    }\n",
       "\n",
       "    .dataframe thead th {\n",
       "        text-align: right;\n",
       "    }\n",
       "</style>\n",
       "<table border=\"1\" class=\"dataframe\">\n",
       "  <thead>\n",
       "    <tr style=\"text-align: right;\">\n",
       "      <th></th>\n",
       "      <th>Company</th>\n",
       "      <th>Age</th>\n",
       "      <th>Salary</th>\n",
       "      <th>Place</th>\n",
       "      <th>Country</th>\n",
       "      <th>Gender</th>\n",
       "    </tr>\n",
       "  </thead>\n",
       "  <tbody>\n",
       "    <tr>\n",
       "      <th>0</th>\n",
       "      <td>TCS</td>\n",
       "      <td>20.0</td>\n",
       "      <td>NaN</td>\n",
       "      <td>Chennai</td>\n",
       "      <td>India</td>\n",
       "      <td>0</td>\n",
       "    </tr>\n",
       "    <tr>\n",
       "      <th>1</th>\n",
       "      <td>Infosys</td>\n",
       "      <td>30.0</td>\n",
       "      <td>NaN</td>\n",
       "      <td>Mumbai</td>\n",
       "      <td>India</td>\n",
       "      <td>0</td>\n",
       "    </tr>\n",
       "    <tr>\n",
       "      <th>2</th>\n",
       "      <td>TCS</td>\n",
       "      <td>35.0</td>\n",
       "      <td>2300.0</td>\n",
       "      <td>Calcutta</td>\n",
       "      <td>India</td>\n",
       "      <td>0</td>\n",
       "    </tr>\n",
       "    <tr>\n",
       "      <th>3</th>\n",
       "      <td>Infosys</td>\n",
       "      <td>40.0</td>\n",
       "      <td>3000.0</td>\n",
       "      <td>Delhi</td>\n",
       "      <td>India</td>\n",
       "      <td>0</td>\n",
       "    </tr>\n",
       "    <tr>\n",
       "      <th>4</th>\n",
       "      <td>TCS</td>\n",
       "      <td>23.0</td>\n",
       "      <td>4000.0</td>\n",
       "      <td>Mumbai</td>\n",
       "      <td>India</td>\n",
       "      <td>0</td>\n",
       "    </tr>\n",
       "    <tr>\n",
       "      <th>...</th>\n",
       "      <td>...</td>\n",
       "      <td>...</td>\n",
       "      <td>...</td>\n",
       "      <td>...</td>\n",
       "      <td>...</td>\n",
       "      <td>...</td>\n",
       "    </tr>\n",
       "    <tr>\n",
       "      <th>143</th>\n",
       "      <td>TCS</td>\n",
       "      <td>33.0</td>\n",
       "      <td>9024.0</td>\n",
       "      <td>Calcutta</td>\n",
       "      <td>India</td>\n",
       "      <td>1</td>\n",
       "    </tr>\n",
       "    <tr>\n",
       "      <th>144</th>\n",
       "      <td>Infosys</td>\n",
       "      <td>22.0</td>\n",
       "      <td>8787.0</td>\n",
       "      <td>Calcutta</td>\n",
       "      <td>India</td>\n",
       "      <td>1</td>\n",
       "    </tr>\n",
       "    <tr>\n",
       "      <th>145</th>\n",
       "      <td>Infosys</td>\n",
       "      <td>44.0</td>\n",
       "      <td>4034.0</td>\n",
       "      <td>Delhi</td>\n",
       "      <td>India</td>\n",
       "      <td>1</td>\n",
       "    </tr>\n",
       "    <tr>\n",
       "      <th>146</th>\n",
       "      <td>TCS</td>\n",
       "      <td>33.0</td>\n",
       "      <td>5034.0</td>\n",
       "      <td>Mumbai</td>\n",
       "      <td>India</td>\n",
       "      <td>1</td>\n",
       "    </tr>\n",
       "    <tr>\n",
       "      <th>147</th>\n",
       "      <td>Infosys</td>\n",
       "      <td>22.0</td>\n",
       "      <td>8202.0</td>\n",
       "      <td>Cochin</td>\n",
       "      <td>India</td>\n",
       "      <td>0</td>\n",
       "    </tr>\n",
       "  </tbody>\n",
       "</table>\n",
       "<p>148 rows × 6 columns</p>\n",
       "</div>"
      ],
      "text/plain": [
       "     Company   Age  Salary     Place Country  Gender\n",
       "0        TCS  20.0     NaN   Chennai   India       0\n",
       "1    Infosys  30.0     NaN    Mumbai   India       0\n",
       "2        TCS  35.0  2300.0  Calcutta   India       0\n",
       "3    Infosys  40.0  3000.0     Delhi   India       0\n",
       "4        TCS  23.0  4000.0    Mumbai   India       0\n",
       "..       ...   ...     ...       ...     ...     ...\n",
       "143      TCS  33.0  9024.0  Calcutta   India       1\n",
       "144  Infosys  22.0  8787.0  Calcutta   India       1\n",
       "145  Infosys  44.0  4034.0     Delhi   India       1\n",
       "146      TCS  33.0  5034.0    Mumbai   India       1\n",
       "147  Infosys  22.0  8202.0    Cochin   India       0\n",
       "\n",
       "[148 rows x 6 columns]"
      ]
     },
     "execution_count": 5,
     "metadata": {},
     "output_type": "execute_result"
    }
   ],
   "source": [
    "dataset = pd.read_csv(\"Employee task 3.csv\")\n",
    "df = pd.DataFrame(dataset)\n",
    "df"
   ]
  },
  {
   "cell_type": "code",
   "execution_count": 7,
   "id": "8bf9a9fd-a86b-4476-bb30-443e77e4d7d2",
   "metadata": {},
   "outputs": [
    {
     "name": "stdout",
     "output_type": "stream",
     "text": [
      "Column: Company\n",
      "Unique Values: ['TCS' 'Infosys' 'CTS' nan 'Tata Consultancy Services' 'Congnizant'\n",
      " 'Infosys Pvt Lmt']\n",
      "Number of Unique Values: 6\n",
      "\n",
      "Column: Age\n",
      "Unique Values: [20. 30. 35. 40. 23. nan 34. 45. 18. 22. 32. 37. 50. 21. 46. 36. 26. 41.\n",
      " 24. 25. 43. 19. 38. 51. 31. 44. 33. 17.  0. 54.]\n",
      "Number of Unique Values: 29\n",
      "\n",
      "Column: Salary\n",
      "Unique Values: [  nan 2300. 3000. 4000. 5000. 6000. 7000. 8000. 9000. 1089. 1234. 3030.\n",
      " 3045. 3184. 4824. 5835. 7084. 8943. 8345. 9284. 9876. 2034. 7654. 2934.\n",
      " 4034. 5034. 8202. 9024. 4345. 6544. 6543. 3234. 4324. 5435. 5555. 8787.\n",
      " 3454. 5654. 5009. 5098. 3033.]\n",
      "Number of Unique Values: 40\n",
      "\n",
      "Column: Place\n",
      "Unique Values: ['Chennai' 'Mumbai' 'Calcutta' 'Delhi' 'Podicherry' 'Cochin' nan 'Noida'\n",
      " 'Hyderabad' 'Bhopal' 'Nagpur' 'Pune']\n",
      "Number of Unique Values: 11\n",
      "\n",
      "Column: Country\n",
      "Unique Values: ['India']\n",
      "Number of Unique Values: 1\n",
      "\n",
      "Column: Gender\n",
      "Unique Values: [0 1]\n",
      "Number of Unique Values: 2\n",
      "\n"
     ]
    }
   ],
   "source": [
    "for column in df.columns:\n",
    "    unique_values = df[column].unique()  # Get unique values\n",
    "    unique_count = df[column].nunique()  # Get number of unique values\n",
    "    print(f\"Column: {column}\")\n",
    "    print(f\"Unique Values: {unique_values}\")\n",
    "    print(f\"Number of Unique Values: {unique_count}\\n\")"
   ]
  },
  {
   "cell_type": "code",
   "execution_count": 11,
   "id": "a0404acb-2c4b-4a8d-9cd9-4b4dab101f01",
   "metadata": {},
   "outputs": [
    {
     "name": "stdout",
     "output_type": "stream",
     "text": [
      "Column: Company\n",
      "Company\n",
      "TCS                          53\n",
      "Infosys                      45\n",
      "CTS                          36\n",
      "Tata Consultancy Services     2\n",
      "Congnizant                    2\n",
      "Infosys Pvt Lmt               2\n",
      "Name: count, dtype: int64\n",
      "Number of Unique Values: 6\n",
      "\n",
      "Column: Age\n",
      "Age\n",
      "22.0    16\n",
      "33.0    13\n",
      "44.0    10\n",
      "23.0     8\n",
      "34.0     8\n",
      "21.0     8\n",
      "32.0     7\n",
      "35.0     6\n",
      "0.0      6\n",
      "41.0     5\n",
      "45.0     4\n",
      "43.0     4\n",
      "24.0     4\n",
      "20.0     3\n",
      "31.0     3\n",
      "25.0     3\n",
      "36.0     3\n",
      "40.0     3\n",
      "26.0     2\n",
      "30.0     2\n",
      "46.0     2\n",
      "50.0     2\n",
      "37.0     2\n",
      "19.0     1\n",
      "38.0     1\n",
      "51.0     1\n",
      "18.0     1\n",
      "17.0     1\n",
      "54.0     1\n",
      "Name: count, dtype: int64\n",
      "Number of Unique Values: 29\n",
      "\n",
      "Column: Salary\n",
      "Salary\n",
      "3000.0    9\n",
      "5000.0    6\n",
      "8202.0    5\n",
      "5034.0    5\n",
      "4034.0    5\n",
      "2300.0    4\n",
      "5835.0    4\n",
      "8787.0    4\n",
      "9024.0    4\n",
      "2934.0    4\n",
      "9284.0    4\n",
      "8345.0    4\n",
      "8943.0    4\n",
      "7084.0    4\n",
      "2034.0    4\n",
      "4824.0    4\n",
      "3045.0    4\n",
      "3184.0    4\n",
      "1234.0    4\n",
      "1089.0    4\n",
      "9000.0    3\n",
      "6000.0    3\n",
      "7000.0    3\n",
      "8000.0    3\n",
      "3030.0    3\n",
      "4000.0    2\n",
      "7654.0    2\n",
      "9876.0    2\n",
      "3234.0    2\n",
      "5098.0    1\n",
      "5009.0    1\n",
      "5654.0    1\n",
      "3454.0    1\n",
      "4345.0    1\n",
      "5555.0    1\n",
      "5435.0    1\n",
      "4324.0    1\n",
      "6543.0    1\n",
      "6544.0    1\n",
      "3033.0    1\n",
      "Name: count, dtype: int64\n",
      "Number of Unique Values: 40\n",
      "\n",
      "Column: Place\n",
      "Place\n",
      "Mumbai        37\n",
      "Calcutta      33\n",
      "Chennai       14\n",
      "Delhi         14\n",
      "Cochin        13\n",
      "Noida          8\n",
      "Hyderabad      8\n",
      "Podicherry     3\n",
      "Pune           2\n",
      "Bhopal         1\n",
      "Nagpur         1\n",
      "Name: count, dtype: int64\n",
      "Number of Unique Values: 11\n",
      "\n",
      "Column: Country\n",
      "Country\n",
      "India    148\n",
      "Name: count, dtype: int64\n",
      "Number of Unique Values: 1\n",
      "\n",
      "Column: Gender\n",
      "Gender\n",
      "0    115\n",
      "1     33\n",
      "Name: count, dtype: int64\n",
      "Number of Unique Values: 2\n",
      "\n"
     ]
    }
   ],
   "source": [
    "# To get unique values and frequency of each value in the column\n",
    "for column in df.columns:\n",
    "    print(f\"Column: {column}\")\n",
    "    print(df[column].value_counts())\n",
    "    print(f\"Number of Unique Values: {df[column].nunique()}\\n\")"
   ]
  },
  {
   "cell_type": "code",
   "execution_count": 13,
   "id": "1ac578de-7149-4af3-96cc-bdbf71642beb",
   "metadata": {},
   "outputs": [
    {
     "name": "stdout",
     "output_type": "stream",
     "text": [
      "              Age       Salary      Gender\n",
      "count  130.000000   124.000000  148.000000\n",
      "mean    30.484615  5312.467742    0.222973\n",
      "std     11.096640  2573.764683    0.417654\n",
      "min      0.000000  1089.000000    0.000000\n",
      "25%     22.000000  3030.000000    0.000000\n",
      "50%     32.500000  5000.000000    0.000000\n",
      "75%     37.750000  8000.000000    0.000000\n",
      "max     54.000000  9876.000000    1.000000\n"
     ]
    }
   ],
   "source": [
    "# Get basic statistics for numerical features\n",
    "summary_statistics = df.describe()\n",
    "print(summary_statistics)"
   ]
  },
  {
   "cell_type": "code",
   "execution_count": 15,
   "id": "ffe30490-1e75-4902-b605-8864be9d08eb",
   "metadata": {},
   "outputs": [
    {
     "name": "stdout",
     "output_type": "stream",
     "text": [
      "Mode for each feature: Company       TCS\n",
      "Age          22.0\n",
      "Salary     3000.0\n",
      "Place      Mumbai\n",
      "Country     India\n",
      "Gender          0\n",
      "Name: 0, dtype: object\n"
     ]
    }
   ],
   "source": [
    "# Calculate mode for each numerical feature\n",
    "modes = df.mode().iloc[0]\n",
    "print(\"Mode for each feature:\",modes)\n"
   ]
  },
  {
   "cell_type": "code",
   "execution_count": 29,
   "id": "084d4730-aa5d-4dc6-8bba-10e2b511f602",
   "metadata": {},
   "outputs": [
    {
     "name": "stdout",
     "output_type": "stream",
     "text": [
      "Missing values in each column:\n",
      "Company     8\n",
      "Age        18\n",
      "Salary     24\n",
      "Place      14\n",
      "Country     0\n",
      "Gender      0\n",
      "dtype: int64\n"
     ]
    }
   ],
   "source": [
    "# Check for missing values in each column\n",
    "missing_values = df.isnull().sum()\n",
    "print(\"Missing values in each column:\")\n",
    "print(missing_values)"
   ]
  },
  {
   "cell_type": "code",
   "execution_count": 39,
   "id": "3f60fe33-4aab-46fe-90d8-465bd09170fd",
   "metadata": {},
   "outputs": [
    {
     "name": "stdout",
     "output_type": "stream",
     "text": [
      "Number of inappropriate '0' values in 'Age': 6\n"
     ]
    }
   ],
   "source": [
    "inappropriate_values = (df['Age'] == 0).sum()\n",
    "print(f\"Number of inappropriate '0' values in 'Age': {inappropriate_values}\")\n"
   ]
  },
  {
   "cell_type": "code",
   "execution_count": 41,
   "id": "26ebf9e3-a449-4824-95fc-1115e3e66dd8",
   "metadata": {},
   "outputs": [
    {
     "name": "stdout",
     "output_type": "stream",
     "text": [
      "24\n"
     ]
    }
   ],
   "source": [
    "# Replace zeros in the 'age' column with NaN\n",
    "df['Age'].replace(0, pd.NA, inplace=True)\n",
    "\n",
    "# Verify replacement\n",
    "print(df['Age'].isnull().sum())  # This should now include the zeros as NaN"
   ]
  },
  {
   "cell_type": "code",
   "execution_count": 43,
   "id": "e8cc3787-f9cf-4bcf-857d-77ea827db702",
   "metadata": {},
   "outputs": [
    {
     "data": {
      "text/html": [
       "<div>\n",
       "<style scoped>\n",
       "    .dataframe tbody tr th:only-of-type {\n",
       "        vertical-align: middle;\n",
       "    }\n",
       "\n",
       "    .dataframe tbody tr th {\n",
       "        vertical-align: top;\n",
       "    }\n",
       "\n",
       "    .dataframe thead th {\n",
       "        text-align: right;\n",
       "    }\n",
       "</style>\n",
       "<table border=\"1\" class=\"dataframe\">\n",
       "  <thead>\n",
       "    <tr style=\"text-align: right;\">\n",
       "      <th></th>\n",
       "      <th>Company</th>\n",
       "      <th>Age</th>\n",
       "      <th>Salary</th>\n",
       "      <th>Place</th>\n",
       "      <th>Country</th>\n",
       "      <th>Gender</th>\n",
       "    </tr>\n",
       "  </thead>\n",
       "  <tbody>\n",
       "    <tr>\n",
       "      <th>0</th>\n",
       "      <td>TCS</td>\n",
       "      <td>20.0</td>\n",
       "      <td>NaN</td>\n",
       "      <td>Chennai</td>\n",
       "      <td>India</td>\n",
       "      <td>0</td>\n",
       "    </tr>\n",
       "    <tr>\n",
       "      <th>1</th>\n",
       "      <td>Infosys</td>\n",
       "      <td>30.0</td>\n",
       "      <td>NaN</td>\n",
       "      <td>Mumbai</td>\n",
       "      <td>India</td>\n",
       "      <td>0</td>\n",
       "    </tr>\n",
       "    <tr>\n",
       "      <th>2</th>\n",
       "      <td>TCS</td>\n",
       "      <td>35.0</td>\n",
       "      <td>2300.0</td>\n",
       "      <td>Calcutta</td>\n",
       "      <td>India</td>\n",
       "      <td>0</td>\n",
       "    </tr>\n",
       "    <tr>\n",
       "      <th>3</th>\n",
       "      <td>Infosys</td>\n",
       "      <td>40.0</td>\n",
       "      <td>3000.0</td>\n",
       "      <td>Delhi</td>\n",
       "      <td>India</td>\n",
       "      <td>0</td>\n",
       "    </tr>\n",
       "    <tr>\n",
       "      <th>4</th>\n",
       "      <td>TCS</td>\n",
       "      <td>23.0</td>\n",
       "      <td>4000.0</td>\n",
       "      <td>Mumbai</td>\n",
       "      <td>India</td>\n",
       "      <td>0</td>\n",
       "    </tr>\n",
       "    <tr>\n",
       "      <th>...</th>\n",
       "      <td>...</td>\n",
       "      <td>...</td>\n",
       "      <td>...</td>\n",
       "      <td>...</td>\n",
       "      <td>...</td>\n",
       "      <td>...</td>\n",
       "    </tr>\n",
       "    <tr>\n",
       "      <th>143</th>\n",
       "      <td>TCS</td>\n",
       "      <td>33.0</td>\n",
       "      <td>9024.0</td>\n",
       "      <td>Calcutta</td>\n",
       "      <td>India</td>\n",
       "      <td>1</td>\n",
       "    </tr>\n",
       "    <tr>\n",
       "      <th>144</th>\n",
       "      <td>Infosys</td>\n",
       "      <td>22.0</td>\n",
       "      <td>8787.0</td>\n",
       "      <td>Calcutta</td>\n",
       "      <td>India</td>\n",
       "      <td>1</td>\n",
       "    </tr>\n",
       "    <tr>\n",
       "      <th>145</th>\n",
       "      <td>Infosys</td>\n",
       "      <td>44.0</td>\n",
       "      <td>4034.0</td>\n",
       "      <td>Delhi</td>\n",
       "      <td>India</td>\n",
       "      <td>1</td>\n",
       "    </tr>\n",
       "    <tr>\n",
       "      <th>146</th>\n",
       "      <td>TCS</td>\n",
       "      <td>33.0</td>\n",
       "      <td>5034.0</td>\n",
       "      <td>Mumbai</td>\n",
       "      <td>India</td>\n",
       "      <td>1</td>\n",
       "    </tr>\n",
       "    <tr>\n",
       "      <th>147</th>\n",
       "      <td>Infosys</td>\n",
       "      <td>22.0</td>\n",
       "      <td>8202.0</td>\n",
       "      <td>Cochin</td>\n",
       "      <td>India</td>\n",
       "      <td>0</td>\n",
       "    </tr>\n",
       "  </tbody>\n",
       "</table>\n",
       "<p>148 rows × 6 columns</p>\n",
       "</div>"
      ],
      "text/plain": [
       "     Company   Age  Salary     Place Country  Gender\n",
       "0        TCS  20.0     NaN   Chennai   India       0\n",
       "1    Infosys  30.0     NaN    Mumbai   India       0\n",
       "2        TCS  35.0  2300.0  Calcutta   India       0\n",
       "3    Infosys  40.0  3000.0     Delhi   India       0\n",
       "4        TCS  23.0  4000.0    Mumbai   India       0\n",
       "..       ...   ...     ...       ...     ...     ...\n",
       "143      TCS  33.0  9024.0  Calcutta   India       1\n",
       "144  Infosys  22.0  8787.0  Calcutta   India       1\n",
       "145  Infosys  44.0  4034.0     Delhi   India       1\n",
       "146      TCS  33.0  5034.0    Mumbai   India       1\n",
       "147  Infosys  22.0  8202.0    Cochin   India       0\n",
       "\n",
       "[148 rows x 6 columns]"
      ]
     },
     "execution_count": 43,
     "metadata": {},
     "output_type": "execute_result"
    }
   ],
   "source": [
    "df"
   ]
  },
  {
   "cell_type": "code",
   "execution_count": 45,
   "id": "e6d1f9f2-bb59-492b-ace9-efac2100f01e",
   "metadata": {},
   "outputs": [
    {
     "name": "stdout",
     "output_type": "stream",
     "text": [
      "Missing values in each column:\n",
      "Company     8\n",
      "Age        24\n",
      "Salary     24\n",
      "Place      14\n",
      "Country     0\n",
      "Gender      0\n",
      "dtype: int64\n"
     ]
    }
   ],
   "source": [
    "# Check for missing values in each column\n",
    "missing_values = df.isnull().sum()\n",
    "print(\"Missing values in each column:\")\n",
    "print(missing_values)"
   ]
  },
  {
   "cell_type": "markdown",
   "id": "422543c3-6b10-4298-958a-fb8cbedd3da7",
   "metadata": {},
   "source": [
    "#### Handling Missing Values:\n",
    "Now that you have identified missing values (including the newly replaced NaN values), you can decide how to handle them. Common approaches include:\n",
    "Removing Rows: Remove rows with missing values.\n",
    "Replacing with Mean/Median/Mode: Replace missing values with the mean, median, or mode of the column."
   ]
  },
  {
   "cell_type": "code",
   "execution_count": 48,
   "id": "bf6aa5e2-601a-4a30-a220-bcc966ac70ec",
   "metadata": {},
   "outputs": [],
   "source": [
    "#  Remove rows with missing values\n",
    "df.dropna(inplace=True)\n"
   ]
  },
  {
   "cell_type": "code",
   "execution_count": 52,
   "id": "b17fd1a3-1454-47fb-aad6-613fb7c62dc8",
   "metadata": {},
   "outputs": [],
   "source": [
    "# Replace missing values with the mean of the column\n",
    "df['Age'].fillna(df['Age'].mean(), inplace=True)\n"
   ]
  },
  {
   "cell_type": "code",
   "execution_count": 54,
   "id": "747d8a1b-5716-48a0-a608-2f17502fa505",
   "metadata": {},
   "outputs": [],
   "source": [
    "# Replace missing values with the median of the column\n",
    "df['Age'].fillna(df['Age'].median(), inplace=True)\n"
   ]
  },
  {
   "cell_type": "code",
   "execution_count": 58,
   "id": "f9362ea6-ddd9-48da-a452-177d67d2caf0",
   "metadata": {},
   "outputs": [],
   "source": [
    "#  Replace missing values with the median of the column\n",
    "df['Age'].fillna(df['Age'].median(), inplace=True)\n"
   ]
  },
  {
   "cell_type": "code",
   "execution_count": 60,
   "id": "8f9e6140-e374-49ca-b55b-4451fc6c4d9e",
   "metadata": {},
   "outputs": [
    {
     "name": "stdout",
     "output_type": "stream",
     "text": [
      "Missing values after handling:\n",
      "Company    0\n",
      "Age        0\n",
      "Salary     0\n",
      "Place      0\n",
      "Country    0\n",
      "Gender     0\n",
      "dtype: int64\n"
     ]
    }
   ],
   "source": [
    "# Check for any remaining missing values\n",
    "missing_values_after = df.isnull().sum()\n",
    "print(\"Missing values after handling:\")\n",
    "print(missing_values_after)"
   ]
  },
  {
   "cell_type": "markdown",
   "id": "a31365be-296a-4c35-8ac1-f593fe238c8b",
   "metadata": {},
   "source": [
    "### Identify Duplicate Rows:"
   ]
  },
  {
   "cell_type": "code",
   "execution_count": 63,
   "id": "00c8f45d-1c9b-452d-bd56-23d08855bc4b",
   "metadata": {},
   "outputs": [
    {
     "name": "stdout",
     "output_type": "stream",
     "text": [
      "Duplicate rows:\n",
      "     Company   Age  Salary     Place Country  Gender\n",
      "130      TCS  21.0  4824.0    Mumbai   India       0\n",
      "144  Infosys  22.0  8787.0  Calcutta   India       1\n"
     ]
    }
   ],
   "source": [
    "duplicates = df.duplicated()\n",
    "print(\"Duplicate rows:\")\n",
    "print(df[duplicates])"
   ]
  },
  {
   "cell_type": "markdown",
   "id": "1cb0d44a-c11e-4a1b-84fc-f47ad564b355",
   "metadata": {},
   "source": [
    "### Count Duplicate Rows:"
   ]
  },
  {
   "cell_type": "code",
   "execution_count": 66,
   "id": "fa47325f-78dc-4178-b222-780cd989857a",
   "metadata": {},
   "outputs": [
    {
     "name": "stdout",
     "output_type": "stream",
     "text": [
      "Number of duplicate rows: 2\n"
     ]
    }
   ],
   "source": [
    "num_duplicates = duplicates.sum()\n",
    "print(f\"Number of duplicate rows: {num_duplicates}\")"
   ]
  },
  {
   "cell_type": "markdown",
   "id": "9bccbd45-2330-4e25-a0c8-2d148a55b980",
   "metadata": {},
   "source": [
    "### Remove duplicate rows"
   ]
  },
  {
   "cell_type": "code",
   "execution_count": 69,
   "id": "1f6ae186-85fc-4814-a5c5-ba3716bbb695",
   "metadata": {},
   "outputs": [],
   "source": [
    "df_cleaned = df.drop_duplicates()"
   ]
  },
  {
   "cell_type": "code",
   "execution_count": 71,
   "id": "9328065b-6525-464c-9eb8-94636e9e2359",
   "metadata": {},
   "outputs": [
    {
     "name": "stdout",
     "output_type": "stream",
     "text": [
      "DataFrame after removing duplicates:\n",
      "             Company   Age  Salary     Place Country  Gender\n",
      "2                TCS  35.0  2300.0  Calcutta   India       0\n",
      "3            Infosys  40.0  3000.0     Delhi   India       0\n",
      "4                TCS  23.0  4000.0    Mumbai   India       0\n",
      "7            Infosys  23.0  7000.0    Mumbai   India       1\n",
      "8                TCS  34.0  8000.0  Calcutta   India       1\n",
      "..               ...   ...     ...       ...     ...     ...\n",
      "142  Infosys Pvt Lmt  22.0  8202.0    Mumbai   India       0\n",
      "143              TCS  33.0  9024.0  Calcutta   India       1\n",
      "145          Infosys  44.0  4034.0     Delhi   India       1\n",
      "146              TCS  33.0  5034.0    Mumbai   India       1\n",
      "147          Infosys  22.0  8202.0    Cochin   India       0\n",
      "\n",
      "[85 rows x 6 columns]\n"
     ]
    }
   ],
   "source": [
    "print(\"DataFrame after removing duplicates:\")\n",
    "print(df_cleaned)"
   ]
  },
  {
   "cell_type": "code",
   "execution_count": 73,
   "id": "de3e77ad-5b58-4d83-964e-760fc2948314",
   "metadata": {},
   "outputs": [
    {
     "name": "stdout",
     "output_type": "stream",
     "text": [
      "Number of duplicates after removal: 0\n"
     ]
    }
   ],
   "source": [
    "# Verify Removal\n",
    "print(f\"Number of duplicates after removal: {df_cleaned.duplicated().sum()}\")"
   ]
  },
  {
   "cell_type": "code",
   "execution_count": 78,
   "id": "b3f106fd-328d-4155-bcd9-5feefd6d24fa",
   "metadata": {},
   "outputs": [
    {
     "data": {
      "text/html": [
       "<div>\n",
       "<style scoped>\n",
       "    .dataframe tbody tr th:only-of-type {\n",
       "        vertical-align: middle;\n",
       "    }\n",
       "\n",
       "    .dataframe tbody tr th {\n",
       "        vertical-align: top;\n",
       "    }\n",
       "\n",
       "    .dataframe thead th {\n",
       "        text-align: right;\n",
       "    }\n",
       "</style>\n",
       "<table border=\"1\" class=\"dataframe\">\n",
       "  <thead>\n",
       "    <tr style=\"text-align: right;\">\n",
       "      <th></th>\n",
       "      <th>Company</th>\n",
       "      <th>Age</th>\n",
       "      <th>Salary</th>\n",
       "      <th>Place</th>\n",
       "      <th>Country</th>\n",
       "      <th>Gender</th>\n",
       "    </tr>\n",
       "  </thead>\n",
       "  <tbody>\n",
       "    <tr>\n",
       "      <th>2</th>\n",
       "      <td>TCS</td>\n",
       "      <td>35.0</td>\n",
       "      <td>2300.0</td>\n",
       "      <td>Calcutta</td>\n",
       "      <td>India</td>\n",
       "      <td>0</td>\n",
       "    </tr>\n",
       "    <tr>\n",
       "      <th>3</th>\n",
       "      <td>Infosys</td>\n",
       "      <td>40.0</td>\n",
       "      <td>3000.0</td>\n",
       "      <td>Delhi</td>\n",
       "      <td>India</td>\n",
       "      <td>0</td>\n",
       "    </tr>\n",
       "    <tr>\n",
       "      <th>4</th>\n",
       "      <td>TCS</td>\n",
       "      <td>23.0</td>\n",
       "      <td>4000.0</td>\n",
       "      <td>Mumbai</td>\n",
       "      <td>India</td>\n",
       "      <td>0</td>\n",
       "    </tr>\n",
       "    <tr>\n",
       "      <th>7</th>\n",
       "      <td>Infosys</td>\n",
       "      <td>23.0</td>\n",
       "      <td>7000.0</td>\n",
       "      <td>Mumbai</td>\n",
       "      <td>India</td>\n",
       "      <td>1</td>\n",
       "    </tr>\n",
       "    <tr>\n",
       "      <th>8</th>\n",
       "      <td>TCS</td>\n",
       "      <td>34.0</td>\n",
       "      <td>8000.0</td>\n",
       "      <td>Calcutta</td>\n",
       "      <td>India</td>\n",
       "      <td>1</td>\n",
       "    </tr>\n",
       "    <tr>\n",
       "      <th>...</th>\n",
       "      <td>...</td>\n",
       "      <td>...</td>\n",
       "      <td>...</td>\n",
       "      <td>...</td>\n",
       "      <td>...</td>\n",
       "      <td>...</td>\n",
       "    </tr>\n",
       "    <tr>\n",
       "      <th>143</th>\n",
       "      <td>TCS</td>\n",
       "      <td>33.0</td>\n",
       "      <td>9024.0</td>\n",
       "      <td>Calcutta</td>\n",
       "      <td>India</td>\n",
       "      <td>1</td>\n",
       "    </tr>\n",
       "    <tr>\n",
       "      <th>144</th>\n",
       "      <td>Infosys</td>\n",
       "      <td>22.0</td>\n",
       "      <td>8787.0</td>\n",
       "      <td>Calcutta</td>\n",
       "      <td>India</td>\n",
       "      <td>1</td>\n",
       "    </tr>\n",
       "    <tr>\n",
       "      <th>145</th>\n",
       "      <td>Infosys</td>\n",
       "      <td>44.0</td>\n",
       "      <td>4034.0</td>\n",
       "      <td>Delhi</td>\n",
       "      <td>India</td>\n",
       "      <td>1</td>\n",
       "    </tr>\n",
       "    <tr>\n",
       "      <th>146</th>\n",
       "      <td>TCS</td>\n",
       "      <td>33.0</td>\n",
       "      <td>5034.0</td>\n",
       "      <td>Mumbai</td>\n",
       "      <td>India</td>\n",
       "      <td>1</td>\n",
       "    </tr>\n",
       "    <tr>\n",
       "      <th>147</th>\n",
       "      <td>Infosys</td>\n",
       "      <td>22.0</td>\n",
       "      <td>8202.0</td>\n",
       "      <td>Cochin</td>\n",
       "      <td>India</td>\n",
       "      <td>0</td>\n",
       "    </tr>\n",
       "  </tbody>\n",
       "</table>\n",
       "<p>87 rows × 6 columns</p>\n",
       "</div>"
      ],
      "text/plain": [
       "     Company   Age  Salary     Place Country  Gender\n",
       "2        TCS  35.0  2300.0  Calcutta   India       0\n",
       "3    Infosys  40.0  3000.0     Delhi   India       0\n",
       "4        TCS  23.0  4000.0    Mumbai   India       0\n",
       "7    Infosys  23.0  7000.0    Mumbai   India       1\n",
       "8        TCS  34.0  8000.0  Calcutta   India       1\n",
       "..       ...   ...     ...       ...     ...     ...\n",
       "143      TCS  33.0  9024.0  Calcutta   India       1\n",
       "144  Infosys  22.0  8787.0  Calcutta   India       1\n",
       "145  Infosys  44.0  4034.0     Delhi   India       1\n",
       "146      TCS  33.0  5034.0    Mumbai   India       1\n",
       "147  Infosys  22.0  8202.0    Cochin   India       0\n",
       "\n",
       "[87 rows x 6 columns]"
      ]
     },
     "execution_count": 78,
     "metadata": {},
     "output_type": "execute_result"
    }
   ],
   "source": [
    "df"
   ]
  },
  {
   "cell_type": "markdown",
   "id": "ab599dda-a54b-4937-ab4f-ed1d794567d3",
   "metadata": {},
   "source": [
    " ###  Detecting Outliers Using IQR (Interquartile Range)"
   ]
  },
  {
   "cell_type": "code",
   "execution_count": 96,
   "id": "b029e4ec-da82-4285-89ec-da9d7c43eb98",
   "metadata": {},
   "outputs": [
    {
     "name": "stdout",
     "output_type": "stream",
     "text": [
      "Q1:\n",
      " 3000.0\n",
      "Q3:\n",
      " 8000.0\n",
      "IQR:\n",
      " 5000.0\n"
     ]
    }
   ],
   "source": [
    "Q1 = df.Salary.quantile(0.25)\n",
    "Q3 = df.Salary.quantile(0.75)\n",
    "IQR = Q3 - Q1\n",
    "\n",
    "print(\"Q1:\\n\", Q1)\n",
    "print(\"Q3:\\n\",Q3)\n",
    "print(\"IQR:\\n\", IQR)"
   ]
  },
  {
   "cell_type": "markdown",
   "id": "ee5843b6-4d40-4a9b-9d2a-0bd0a2269c29",
   "metadata": {},
   "source": [
    "### Define Outlier Boundaries:"
   ]
  },
  {
   "cell_type": "code",
   "execution_count": 99,
   "id": "29826b05-9c7e-4674-bb52-5040d8151a8c",
   "metadata": {},
   "outputs": [
    {
     "name": "stdout",
     "output_type": "stream",
     "text": [
      "Lower Bound:\n",
      " -4500.0\n",
      "Upper Bound:\n",
      " 15500.0\n"
     ]
    }
   ],
   "source": [
    "lower_bound = Q1 - 1.5 * IQR\n",
    "upper_bound = Q3 + 1.5 * IQR\n",
    "\n",
    "print(\"Lower Bound:\\n\", lower_bound)\n",
    "print(\"Upper Bound:\\n\", upper_bound)"
   ]
  },
  {
   "cell_type": "markdown",
   "id": "cdbe2cdd-45f1-480a-ab28-cca05d4a127e",
   "metadata": {},
   "source": [
    "### Identify Outliers:"
   ]
  },
  {
   "cell_type": "code",
   "execution_count": null,
   "id": "f9f22574-caf4-4224-a69d-37da79cbdb26",
   "metadata": {},
   "outputs": [],
   "source": [
    "outliers = ((df < lower_bound) | (df > upper_bound))\n",
    "print(\"Outliers:\\n\", outliers)"
   ]
  },
  {
   "cell_type": "code",
   "execution_count": null,
   "id": "e6d23246-62e7-4faa-96d5-e1b93536018d",
   "metadata": {},
   "outputs": [],
   "source": [
    "df_cleaned = df[~((df < lower_bound) | (df > upper_bound)).any(axis=1)]"
   ]
  },
  {
   "cell_type": "markdown",
   "id": "130e3848-58cb-484f-8953-bb0dc39643b8",
   "metadata": {},
   "source": [
    "### Detecting Outliers Using Z-Score"
   ]
  },
  {
   "cell_type": "code",
   "execution_count": 111,
   "id": "ca916ad6-7e4c-4d5e-b3de-24c9f73b7f6c",
   "metadata": {},
   "outputs": [
    {
     "name": "stdout",
     "output_type": "stream",
     "text": [
      "Z-Scores:\n",
      "        Salary    Gender\n",
      "2    1.012973  0.546358\n",
      "3    0.749656  0.546358\n",
      "4    0.373490  0.546358\n",
      "7    0.755009  1.830301\n",
      "8    1.131175  1.830301\n",
      "..        ...       ...\n",
      "143  1.516370  1.830301\n",
      "144  1.427218  1.830301\n",
      "145  0.360700  1.830301\n",
      "146  0.015466  1.830301\n",
      "147  1.207161  0.546358\n",
      "\n",
      "[87 rows x 2 columns]\n"
     ]
    }
   ],
   "source": [
    "z_scores = stats.zscore(df.select_dtypes(include=[float, int]))  # Apply to numerical columns\n",
    "abs_z_scores = abs(z_scores)\n",
    "\n",
    "print(\"Z-Scores:\\n\", abs_z_scores)"
   ]
  },
  {
   "cell_type": "code",
   "execution_count": 113,
   "id": "8705b7af-b0b7-48a3-a9ef-af774144f4e7",
   "metadata": {},
   "outputs": [
    {
     "name": "stdout",
     "output_type": "stream",
     "text": [
      "Outliers:\n",
      " Empty DataFrame\n",
      "Columns: [Company, Age, Salary, Place, Country, Gender]\n",
      "Index: []\n"
     ]
    }
   ],
   "source": [
    "# Identify outliers where Z-score > 3\n",
    "outliers = (abs_z_scores > 3).any(axis=1)\n",
    "print(\"Outliers:\\n\", df[outliers])"
   ]
  },
  {
   "cell_type": "markdown",
   "id": "c2c44c4a-5906-4339-9075-b09960e04ab0",
   "metadata": {},
   "source": [
    "### Data Analysis"
   ]
  },
  {
   "cell_type": "code",
   "execution_count": 120,
   "id": "2b77eec4-5459-4310-8704-2b73e6b1ac63",
   "metadata": {},
   "outputs": [
    {
     "name": "stdout",
     "output_type": "stream",
     "text": [
      "     Company   Age  Salary      Place Country  Gender\n",
      "21   Infosys  50.0  3184.0      Delhi   India       0\n",
      "32   Infosys  45.0  4034.0   Calcutta   India       0\n",
      "39   Infosys  41.0  3000.0     Mumbai   India       0\n",
      "50   Infosys  41.0  3000.0    Chennai   India       0\n",
      "57   Infosys  51.0  3184.0  Hyderabad   India       0\n",
      "68   Infosys  43.0  4034.0     Mumbai   India       0\n",
      "75   Infosys  44.0  3000.0     Cochin   India       0\n",
      "86   Infosys  41.0  3000.0      Delhi   India       0\n",
      "93   Infosys  54.0  3184.0     Mumbai   India       0\n",
      "104  Infosys  44.0  4034.0      Delhi   India       0\n",
      "122  Infosys  44.0  3234.0     Mumbai   India       0\n",
      "129  Infosys  50.0  3184.0   Calcutta   India       0\n",
      "138      CTS  44.0  3033.0     Cochin   India       0\n",
      "140  Infosys  44.0  4034.0  Hyderabad   India       0\n",
      "145  Infosys  44.0  4034.0      Delhi   India       1\n"
     ]
    }
   ],
   "source": [
    "filtered_df = df[(df['Age']>40) & (df['Salary']<5000)]\n",
    "print(filtered_df)"
   ]
  },
  {
   "cell_type": "markdown",
   "id": "e5d8f96f-5109-48bd-820b-07fed21a0e61",
   "metadata": {},
   "source": [
    "### Scatter plot using matplotlib\n",
    "\n"
   ]
  },
  {
   "cell_type": "code",
   "execution_count": null,
   "id": "61073285-dd28-43ba-8a42-ca894ded8738",
   "metadata": {},
   "outputs": [],
   "source": [
    "#  Set the figure size\n",
    "# Add a grid for better readability"
   ]
  },
  {
   "cell_type": "code",
   "execution_count": 123,
   "id": "70b5b020-2163-4bc0-a026-dcfdb21c85e2",
   "metadata": {},
   "outputs": [
    {
     "data": {
      "image/png": "[encoded data removed]",
      "text/plain": [
       "<Figure size 1000x600 with 1 Axes>"
      ]
     },
     "metadata": {},
     "output_type": "display_data"
    }
   ],
   "source": [
    "plt.figure(figsize=(10, 6)) \n",
    "plt.scatter(df['Age'], df['Salary'], color='blue', alpha=0.5)\n",
    "\n",
    "plt.title('Relationship between Age and Salary')\n",
    "plt.xlabel('Age')\n",
    "plt.ylabel('Salary')\n",
    "plt.grid(True) \n",
    "plt.show()"
   ]
  },
  {
   "cell_type": "markdown",
   "id": "b29ff551-4887-4ae1-9a17-d3854b610cff",
   "metadata": {},
   "source": [
    "### Count the Number of People from Each Location"
   ]
  },
  {
   "cell_type": "code",
   "execution_count": 128,
   "id": "b27a8add-ddc2-4a13-8eca-790ce8d00fda",
   "metadata": {},
   "outputs": [
    {
     "name": "stdout",
     "output_type": "stream",
     "text": [
      "Counts of People from Each Location:\n",
      " Place\n",
      "Mumbai        23\n",
      "Calcutta      22\n",
      "Delhi         11\n",
      "Cochin        10\n",
      "Noida          6\n",
      "Chennai        5\n",
      "Hyderabad      5\n",
      "Podicherry     2\n",
      "Bhopal         1\n",
      "Nagpur         1\n",
      "Pune           1\n",
      "Name: count, dtype: int64\n"
     ]
    }
   ],
   "source": [
    "location_counts = df['Place'].value_counts()\n",
    "\n",
    "print(\"Counts of People from Each Location:\\n\", location_counts)\n"
   ]
  },
  {
   "cell_type": "markdown",
   "id": "777502f7-4d8a-449f-ae56-54ccdcb726f9",
   "metadata": {},
   "source": [
    "#### Representation of the above count using Bar Chart"
   ]
  },
  {
   "cell_type": "code",
   "execution_count": 131,
   "id": "c6fc4256-f108-40ec-b712-43a599da62ab",
   "metadata": {},
   "outputs": [
    {
     "data": {
      "image/png": "[encoded data removed]",
      "text/plain": [
       "<Figure size 1000x600 with 1 Axes>"
      ]
     },
     "metadata": {},
     "output_type": "display_data"
    }
   ],
   "source": [
    "plt.figure(figsize=(10, 6))\n",
    "location_counts.plot(kind='bar', color='skyblue')\n",
    "\n",
    "plt.title('Number of People from Each Location')\n",
    "plt.xlabel('Location')\n",
    "plt.ylabel('Number of People')\n",
    "plt.xticks(rotation=45)  # Rotate location names for better readability\n",
    "plt.grid(True)\n",
    "plt.show()\n"
   ]
  },
  {
   "cell_type": "markdown",
   "id": "416457c6-88ff-48ed-b387-313773c1caa6",
   "metadata": {},
   "source": [
    "#### Representation of the above count using Pie Chart"
   ]
  },
  {
   "cell_type": "code",
   "execution_count": 138,
   "id": "b0824afe-a81e-47f9-bf8a-816ec1147163",
   "metadata": {},
   "outputs": [
    {
     "data": {
      "image/png": "[encoded data removed]",
      "text/plain": [
       "<Figure size 800x800 with 1 Axes>"
      ]
     },
     "metadata": {},
     "output_type": "display_data"
    }
   ],
   "source": [
    "plt.figure(figsize=(8, 8))\n",
    "plt.pie(location_counts, labels=location_counts.index, autopct='%1.1f%%', colors=sns.color_palette('pastel', len(location_counts)))\n",
    "\n",
    "plt.title('Proportion of People from Each Location')\n",
    "plt.show()"
   ]
  },
  {
   "cell_type": "markdown",
   "id": "d19b8fa9-9203-4dab-914d-1cbf992c2e85",
   "metadata": {},
   "source": [
    "##### Converting categorical variables into numerical representations is a crucial step in preparing data for machine learning models. \n",
    "      Two common methods for this are One-Hot Encoding and Label Encoding. Here's how to do both in Python using the pandas and sklearn libraries.\n",
    "\n",
    "      1. One-Hot Encoding\n",
    "       One-Hot Encoding converts each category into a new binary column (0 or 1). This is useful when the categorical variable does not have an inherent order."
   ]
  },
  {
   "cell_type": "code",
   "execution_count": 141,
   "id": "8ca6f222-846e-4be9-ac09-54932b70856c",
   "metadata": {},
   "outputs": [
    {
     "name": "stdout",
     "output_type": "stream",
     "text": [
      "One-Hot Encoded DataFrame:\n",
      "    Company   Age  Salary Country  Gender  location_Bhopal  location_Calcutta  \\\n",
      "2      TCS  35.0  2300.0   India       0            False               True   \n",
      "3  Infosys  40.0  3000.0   India       0            False              False   \n",
      "4      TCS  23.0  4000.0   India       0            False              False   \n",
      "7  Infosys  23.0  7000.0   India       1            False              False   \n",
      "8      TCS  34.0  8000.0   India       1            False               True   \n",
      "\n",
      "   location_Chennai  location_Cochin  location_Delhi  location_Hyderabad  \\\n",
      "2             False            False           False               False   \n",
      "3             False            False            True               False   \n",
      "4             False            False           False               False   \n",
      "7             False            False           False               False   \n",
      "8             False            False           False               False   \n",
      "\n",
      "   location_Mumbai  location_Nagpur  location_Noida  location_Podicherry  \\\n",
      "2            False            False           False                False   \n",
      "3            False            False           False                False   \n",
      "4             True            False           False                False   \n",
      "7             True            False           False                False   \n",
      "8            False            False           False                False   \n",
      "\n",
      "   location_Pune  \n",
      "2          False  \n",
      "3          False  \n",
      "4          False  \n",
      "7          False  \n",
      "8          False  \n"
     ]
    }
   ],
   "source": [
    "one_hot_encoded_df = pd.get_dummies(df, columns=['Place'], prefix='location')\n",
    "\n",
    "print(\"One-Hot Encoded DataFrame:\\n\", one_hot_encoded_df.head())"
   ]
  },
  {
   "cell_type": "markdown",
   "id": "329f84d7-5ee9-4e8c-9067-e4e124beb157",
   "metadata": {},
   "source": [
    "##### Label Encoding\n",
    "Label Encoding converts each category into a numerical label (e.g., 0, 1, 2, ...). \n",
    "This method is useful when the categorical variable has a natural order, but be cautious as it can introduce unintended ordinal relationships."
   ]
  },
  {
   "cell_type": "code",
   "execution_count": 148,
   "id": "cc595314-7d15-494f-b29f-3294d6f32b96",
   "metadata": {},
   "outputs": [],
   "source": [
    "# Assuming you want to label encode the 'location' column\n",
    "label_encoder = LabelEncoder()\n",
    "\n",
    "# Fit and transform the 'location' column\n",
    "df['location_encoded'] = label_encoder.fit_transform(df['Place'])\n"
   ]
  },
  {
   "cell_type": "code",
   "execution_count": 150,
   "id": "36d13cba-96e8-411b-8371-ddb5d47b12b5",
   "metadata": {},
   "outputs": [
    {
     "name": "stdout",
     "output_type": "stream",
     "text": [
      "Label Encoded DataFrame:\n",
      "       Place  location_encoded\n",
      "2  Calcutta                 1\n",
      "3     Delhi                 4\n",
      "4    Mumbai                 6\n",
      "7    Mumbai                 6\n",
      "8  Calcutta                 1\n"
     ]
    }
   ],
   "source": [
    "print(\"Label Encoded DataFrame:\\n\", df[['Place', 'location_encoded']].head())"
   ]
  },
  {
   "cell_type": "markdown",
   "id": "6e19daaa-bba2-4fe1-ae37-d115ff8cfc0a",
   "metadata": {},
   "source": [
    "#### Feature scaling is an essential step in preparing data for machine learning, especially when the features have different ranges.\n",
    "##### Two common methods for feature scaling are StandardScaler and MinMaxScaler. Here's how to apply both using the sklearn.preprocessing module.\n",
    "\n",
    "#### 1. StandardScaler\n",
    "The StandardScaler standardizes features by removing the mean and scaling to unit variance. \n",
    "    The result is a distribution with a mean of 0 and a standard deviation of 1."
   ]
  },
  {
   "cell_type": "code",
   "execution_count": 153,
   "id": "cba0a0ae-5571-417f-a4ef-420b987feac0",
   "metadata": {},
   "outputs": [
    {
     "name": "stdout",
     "output_type": "stream",
     "text": [
      "Standard Scaled DataFrame:\n",
      "    age_scaled  salary_scaled  location_encoded_scaled\n",
      "0    0.283003      -1.012973                -1.231985\n",
      "1    0.818249      -0.749656                -0.018596\n",
      "2   -1.001585      -0.373490                 0.790330\n",
      "3   -1.001585       0.755009                 0.790330\n",
      "4    0.175954       1.131175                -1.231985\n"
     ]
    }
   ],
   "source": [
    "scaler = StandardScaler()\n",
    "\n",
    "# Apply StandardScaler to the numeric columns\n",
    "scaled_features = scaler.fit_transform(df[['Age', 'Salary', 'location_encoded']])\n",
    "\n",
    "# Convert the scaled features back to a DataFrame\n",
    "scaled_df = pd.DataFrame(scaled_features, columns=['age_scaled', 'salary_scaled', 'location_encoded_scaled'])\n",
    "\n",
    "print(\"Standard Scaled DataFrame:\\n\", scaled_df.head())"
   ]
  },
  {
   "cell_type": "markdown",
   "id": "f53f9fa6-366f-4275-b69d-5457c71785d7",
   "metadata": {},
   "source": [
    "### MinMaxScaler"
   ]
  },
  {
   "cell_type": "code",
   "execution_count": 156,
   "id": "30c7c8f9-a93b-41f3-b87b-98ca7cdf3687",
   "metadata": {},
   "outputs": [],
   "source": [
    "scaler = MinMaxScaler()\n",
    "scaled_features = scaler.fit_transform(df[['Age', 'Salary', 'location_encoded']])\n",
    "scaled_df = pd.DataFrame(scaled_features, columns=['age_scaled', 'salary_scaled', 'location_encoded_scaled'])"
   ]
  },
  {
   "cell_type": "code",
   "execution_count": 158,
   "id": "113dff16-4736-4df5-8b10-d857ae54f7b6",
   "metadata": {},
   "outputs": [
    {
     "name": "stdout",
     "output_type": "stream",
     "text": [
      "Minmax Scaled DataFrame:\n",
      "    age_scaled  salary_scaled  location_encoded_scaled\n",
      "0    0.486486       0.137817                      0.1\n",
      "1    0.621622       0.217480                      0.4\n",
      "2    0.162162       0.331285                      0.6\n",
      "3    0.162162       0.672698                      0.6\n",
      "4    0.459459       0.786503                      0.1\n"
     ]
    }
   ],
   "source": [
    "print(\"Minmax Scaled DataFrame:\\n\", scaled_df.head())"
   ]
  },
  {
   "cell_type": "code",
   "execution_count": null,
   "id": "0cab808b-2097-408b-8ae4-001abd3d56b8",
   "metadata": {},
   "outputs": [],
   "source": []
  }
 ],
 "metadata": {
  "kernelspec": {
   "display_name": "Python 3 (ipykernel)",
   "language": "python",
   "name": "python3"
  },
  "language_info": {
   "codemirror_mode": {
    "name": "ipython",
    "version": 3
   },
   "file_extension": ".py",
   "mimetype": "text/x-python",
   "name": "python",
   "nbconvert_exporter": "python",
   "pygments_lexer": "ipython3",
   "version": "3.11.7"
  }
 },
 "nbformat": 4,
 "nbformat_minor": 5
}
